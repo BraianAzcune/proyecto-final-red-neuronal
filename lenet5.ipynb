{
 "cells": [
  {
   "cell_type": "markdown",
   "metadata": {},
   "source": [
    "##### Definicion de lenet5 by Dive into deep learning\n",
    "https://d2l.ai/chapter_convolutional-neural-networks/lenet.html\n",
    "\n",
    "### Recursos tenidos en cuenta para implementar el modelo\n",
    "(contiene implementacion del modelo)\n",
    "\n",
    "https://d2l.ai/chapter_linear-classification/classification.html\n",
    "\n",
    "(contiene implementacion del modelo)\n",
    "\n",
    "https://blog.paperspace.com/writing-lenet5-from-scratch-in-python/ \n",
    "\n",
    "##### Tutorial oficial pytorch\n",
    "https://pytorch.org/tutorials/beginner/basics/intro.html \n",
    "\n",
    "Clase Sequential\n",
    "\n",
    "https://pytorch.org/docs/stable/generated/torch.nn.Sequential.html?highlight=sequential#torch.nn.Sequential\n",
    "\n",
    "Capa Conv2d \n",
    "\n",
    "https://pytorch.org/docs/stable/generated/torch.nn.Conv2d.html\n",
    "\n",
    "\n"
   ]
  },
  {
   "cell_type": "code",
   "execution_count": 1,
   "metadata": {},
   "outputs": [
    {
     "name": "stdout",
     "output_type": "stream",
     "text": [
      "Using cuda device\n"
     ]
    }
   ],
   "source": [
    "import torch\n",
    "device = \"cuda\" if torch.cuda.is_available() else \"cpu\"\n",
    "print(f\"Using {device} device\")"
   ]
  },
  {
   "cell_type": "code",
   "execution_count": 2,
   "metadata": {},
   "outputs": [],
   "source": [
    "from numpy import pad\n",
    "import torch\n",
    "from torch import nn\n",
    "class Lenet5(nn.Module):\n",
    "    def __init__(self) -> None:\n",
    "        super().__init__()\n",
    "        # se reciben imagenes 3x32x32\n",
    "        self.layer1 = nn.Sequential(\n",
    "            nn.Conv2d(in_channels=3, out_channels=6, kernel_size=5, stride=1, padding=0), # quedan un volumen de 6x28x28 # (n - k + s + p)/s\n",
    "            nn.ReLU(),\n",
    "            nn.MaxPool2d(kernel_size=2,stride=2) # queda un volumen de 6x14x14\n",
    "        )\n",
    "\n",
    "        self.layer2 = nn.Sequential(\n",
    "            nn.Conv2d(in_channels=6, out_channels=16, kernel_size=5, stride=1, padding=0), # queda un volumen de 16x10x10\n",
    "            nn.ReLU(),\n",
    "            nn.MaxPool2d(kernel_size=2, stride=2) # queda un volumen de 16x5x5 = 400.\n",
    "        )\n",
    "\n",
    "        self.denseLayer = nn.Sequential(\n",
    "            nn.Flatten(),\n",
    "            nn.Linear(in_features=400, out_features=120),\n",
    "            nn.ReLU(),\n",
    "            nn.Linear(in_features=120, out_features=84),\n",
    "            nn.ReLU(),\n",
    "            nn.Linear(in_features=84, out_features=10)\n",
    "        )\n",
    "    \n",
    "    def forward(self, x):\n",
    "        logits = self.layer1(x)\n",
    "        logits = self.layer2(logits)\n",
    "        logits = self.denseLayer(logits)\n",
    "        # no es necesario utilizar softmax, ya que el optimizador lo integra, pero es necesario agregarlo por afuera para cuando se utilice el modo de evaluacion.\n",
    "        return logits\n"
   ]
  },
  {
   "cell_type": "code",
   "execution_count": 6,
   "metadata": {},
   "outputs": [
    {
     "name": "stdout",
     "output_type": "stream",
     "text": [
      "tensor([[-0.0596, -0.0419,  0.0022,  0.0457,  0.0425, -0.0692,  0.1201, -0.0016,\n",
      "         -0.1000,  0.0421]], grad_fn=<AddmmBackward0>)\n"
     ]
    }
   ],
   "source": [
    "random = torch.rand(1,3,32,32)\n",
    "model = Lenet5()\n",
    "model.eval()\n",
    "print(model(random))    "
   ]
  }
 ],
 "metadata": {
  "kernelspec": {
   "display_name": "Python 3.9.13 ('tesis')",
   "language": "python",
   "name": "python3"
  },
  "language_info": {
   "codemirror_mode": {
    "name": "ipython",
    "version": 3
   },
   "file_extension": ".py",
   "mimetype": "text/x-python",
   "name": "python",
   "nbconvert_exporter": "python",
   "pygments_lexer": "ipython3",
   "version": "3.9.13"
  },
  "orig_nbformat": 4,
  "vscode": {
   "interpreter": {
    "hash": "9abe774f74fe6e9a34c044080c00539c2573e8d4e4c28ec478136b0c7aa9cb53"
   }
  }
 },
 "nbformat": 4,
 "nbformat_minor": 2
}
