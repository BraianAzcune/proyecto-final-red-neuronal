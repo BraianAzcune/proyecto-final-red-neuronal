{
 "cells": [
  {
   "cell_type": "code",
   "execution_count": 1,
   "metadata": {},
   "outputs": [
    {
     "name": "stdout",
     "output_type": "stream",
     "text": [
      "Exported graph: graph(%input.1 : Float(1, 3, 32, 32, strides=[3072, 1024, 32, 1], requires_grad=0, device=cpu),\n",
      "      %layer1.0.weight : Float(18, 3, 5, 5, strides=[75, 25, 5, 1], requires_grad=1, device=cpu),\n",
      "      %layer1.0.bias : Float(18, strides=[1], requires_grad=1, device=cpu),\n",
      "      %layer2.0.weight : Float(28, 18, 5, 5, strides=[450, 25, 5, 1], requires_grad=1, device=cpu),\n",
      "      %layer2.0.bias : Float(28, strides=[1], requires_grad=1, device=cpu),\n",
      "      %denseLayer.1.weight : Float(160, 700, strides=[700, 1], requires_grad=1, device=cpu),\n",
      "      %denseLayer.1.bias : Float(160, strides=[1], requires_grad=1, device=cpu),\n",
      "      %denseLayer.4.weight : Float(104, 160, strides=[160, 1], requires_grad=1, device=cpu),\n",
      "      %denseLayer.4.bias : Float(104, strides=[1], requires_grad=1, device=cpu),\n",
      "      %denseLayer.6.weight : Float(10, 104, strides=[104, 1], requires_grad=1, device=cpu),\n",
      "      %denseLayer.6.bias : Float(10, strides=[1], requires_grad=1, device=cpu)):\n",
      "  %input : Float(1, 18, 30, 30, strides=[16200, 900, 30, 1], requires_grad=0, device=cpu) = onnx::Conv[dilations=[1, 1], group=1, kernel_shape=[5, 5], pads=[1, 1, 1, 1], strides=[1, 1], onnx_name=\"Conv_0\"](%input.1, %layer1.0.weight, %layer1.0.bias) # /home/braian/miniconda3/envs/tesis/lib/python3.9/site-packages/torch/nn/modules/conv.py:453:0\n",
      "  %onnx::MaxPool_12 : Float(1, 18, 30, 30, strides=[16200, 900, 30, 1], requires_grad=1, device=cpu) = onnx::Relu[onnx_name=\"Relu_1\"](%input) # /home/braian/miniconda3/envs/tesis/lib/python3.9/site-packages/torch/nn/functional.py:1457:0\n",
      "  %input.4 : Float(1, 18, 15, 15, strides=[4050, 225, 15, 1], requires_grad=1, device=cpu) = onnx::MaxPool[ceil_mode=0, kernel_shape=[2, 2], pads=[0, 0, 0, 0], strides=[2, 2], onnx_name=\"MaxPool_2\"](%onnx::MaxPool_12) # /home/braian/miniconda3/envs/tesis/lib/python3.9/site-packages/torch/nn/functional.py:782:0\n",
      "  %input.8 : Float(1, 28, 11, 11, strides=[3388, 121, 11, 1], requires_grad=0, device=cpu) = onnx::Conv[dilations=[1, 1], group=1, kernel_shape=[5, 5], pads=[0, 0, 0, 0], strides=[1, 1], onnx_name=\"Conv_3\"](%input.4, %layer2.0.weight, %layer2.0.bias) # /home/braian/miniconda3/envs/tesis/lib/python3.9/site-packages/torch/nn/modules/conv.py:453:0\n",
      "  %onnx::MaxPool_15 : Float(1, 28, 11, 11, strides=[3388, 121, 11, 1], requires_grad=1, device=cpu) = onnx::Relu[onnx_name=\"Relu_4\"](%input.8) # /home/braian/miniconda3/envs/tesis/lib/python3.9/site-packages/torch/nn/functional.py:1457:0\n",
      "  %onnx::Flatten_16 : Float(1, 28, 5, 5, strides=[700, 25, 5, 1], requires_grad=1, device=cpu) = onnx::MaxPool[ceil_mode=0, kernel_shape=[3, 3], pads=[0, 0, 0, 0], strides=[2, 2], onnx_name=\"MaxPool_5\"](%onnx::MaxPool_15) # /home/braian/miniconda3/envs/tesis/lib/python3.9/site-packages/torch/nn/functional.py:782:0\n",
      "  %onnx::Gemm_17 : Float(1, 700, strides=[700, 1], requires_grad=1, device=cpu) = onnx::Flatten[axis=1, onnx_name=\"Flatten_6\"](%onnx::Flatten_16) # /home/braian/miniconda3/envs/tesis/lib/python3.9/site-packages/torch/nn/modules/flatten.py:45:0\n",
      "  %input.12 : Float(1, 160, strides=[160, 1], requires_grad=1, device=cpu) = onnx::Gemm[alpha=1., beta=1., transB=1, onnx_name=\"Gemm_7\"](%onnx::Gemm_17, %denseLayer.1.weight, %denseLayer.1.bias) # /home/braian/miniconda3/envs/tesis/lib/python3.9/site-packages/torch/nn/modules/linear.py:114:0\n",
      "  %input.16 : Float(1, 160, strides=[160, 1], requires_grad=1, device=cpu) = onnx::Relu[onnx_name=\"Relu_8\"](%input.12) # /home/braian/miniconda3/envs/tesis/lib/python3.9/site-packages/torch/nn/functional.py:1457:0\n",
      "  %input.20 : Float(1, 104, strides=[104, 1], requires_grad=1, device=cpu) = onnx::Gemm[alpha=1., beta=1., transB=1, onnx_name=\"Gemm_9\"](%input.16, %denseLayer.4.weight, %denseLayer.4.bias) # /home/braian/miniconda3/envs/tesis/lib/python3.9/site-packages/torch/nn/modules/linear.py:114:0\n",
      "  %onnx::Gemm_21 : Float(1, 104, strides=[104, 1], requires_grad=1, device=cpu) = onnx::Relu[onnx_name=\"Relu_10\"](%input.20) # /home/braian/miniconda3/envs/tesis/lib/python3.9/site-packages/torch/nn/functional.py:1457:0\n",
      "  %22 : Float(1, 10, strides=[10, 1], requires_grad=1, device=cpu) = onnx::Gemm[alpha=1., beta=1., transB=1, onnx_name=\"Gemm_11\"](%onnx::Gemm_21, %denseLayer.6.weight, %denseLayer.6.bias) # /home/braian/miniconda3/envs/tesis/lib/python3.9/site-packages/torch/nn/modules/linear.py:114:0\n",
      "  return (%22)\n",
      "\n"
     ]
    }
   ],
   "source": [
    "# https://www.youtube.com/watch?v=Vs730jsRgO8&t=285s&ab_channel=ElliotWaite\n",
    "import os\n",
    "import torch\n",
    "from modelo_convolucional import instanciarModeloConvolucional\n",
    "\n",
    "# mostrarle a onnx como debe ser el formato de entrada\n",
    "dummy_input = torch.zeros(1,3,32,32)\n",
    "config = {\n",
    "        \"batch_size\": 16,\n",
    "        \"learning_rate\": 0.000106647,\n",
    "        \"cant_filtros_conv1\": 18,\n",
    "        \"kernel_size_maxpool1\": 2,\n",
    "        \"cant_filtros_conv2\": 28,\n",
    "        \"kernel_size_maxpool2\": 3,\n",
    "        \"full_l1\": 160,\n",
    "        \"full_l2\": 104,\n",
    "        \"weight_decay\":1e-4,\n",
    "    }\n",
    "modelo_conv = instanciarModeloConvolucional(config)\n",
    "state_dict_path_conv = os.path.abspath(\"./copia_modelos_pre_produccion/modelo_checkpoint200_conv.pt\")\n",
    "modelo_conv.load_state_dict(torch.load(state_dict_path_conv))\n",
    "# desactivar cualquier capa del modo de entrenamiento, onnx solo sirve para inferencia\n",
    "modelo_conv.eval()\n",
    "torch.onnx.export(modelo_conv,dummy_input, os.path.abspath(\"./produccion/model_conv.onnx\"), verbose=True)\n"
   ]
  },
  {
   "cell_type": "code",
   "execution_count": 2,
   "metadata": {},
   "outputs": [
    {
     "name": "stdout",
     "output_type": "stream",
     "text": [
      "Exported graph: graph(%onnx::Flatten_0 : Float(1, 3, 32, 32, strides=[3072, 1024, 32, 1], requires_grad=0, device=cpu),\n",
      "      %denseLayer.1.weight : Float(160, 3072, strides=[3072, 1], requires_grad=1, device=cpu),\n",
      "      %denseLayer.1.bias : Float(160, strides=[1], requires_grad=1, device=cpu),\n",
      "      %denseLayer.4.weight : Float(104, 160, strides=[160, 1], requires_grad=1, device=cpu),\n",
      "      %denseLayer.4.bias : Float(104, strides=[1], requires_grad=1, device=cpu),\n",
      "      %denseLayer.6.weight : Float(10, 104, strides=[104, 1], requires_grad=1, device=cpu),\n",
      "      %denseLayer.6.bias : Float(10, strides=[1], requires_grad=1, device=cpu)):\n",
      "  %onnx::Gemm_7 : Float(1, 3072, strides=[3072, 1], requires_grad=0, device=cpu) = onnx::Flatten[axis=1, onnx_name=\"Flatten_0\"](%onnx::Flatten_0) # /home/braian/miniconda3/envs/tesis/lib/python3.9/site-packages/torch/nn/modules/flatten.py:45:0\n",
      "  %input : Float(1, 160, strides=[160, 1], requires_grad=1, device=cpu) = onnx::Gemm[alpha=1., beta=1., transB=1, onnx_name=\"Gemm_1\"](%onnx::Gemm_7, %denseLayer.1.weight, %denseLayer.1.bias) # /home/braian/miniconda3/envs/tesis/lib/python3.9/site-packages/torch/nn/modules/linear.py:114:0\n",
      "  %input.3 : Float(1, 160, strides=[160, 1], requires_grad=1, device=cpu) = onnx::Relu[onnx_name=\"Relu_2\"](%input) # /home/braian/miniconda3/envs/tesis/lib/python3.9/site-packages/torch/nn/functional.py:1457:0\n",
      "  %input.7 : Float(1, 104, strides=[104, 1], requires_grad=1, device=cpu) = onnx::Gemm[alpha=1., beta=1., transB=1, onnx_name=\"Gemm_3\"](%input.3, %denseLayer.4.weight, %denseLayer.4.bias) # /home/braian/miniconda3/envs/tesis/lib/python3.9/site-packages/torch/nn/modules/linear.py:114:0\n",
      "  %onnx::Gemm_11 : Float(1, 104, strides=[104, 1], requires_grad=1, device=cpu) = onnx::Relu[onnx_name=\"Relu_4\"](%input.7) # /home/braian/miniconda3/envs/tesis/lib/python3.9/site-packages/torch/nn/functional.py:1457:0\n",
      "  %12 : Float(1, 10, strides=[10, 1], requires_grad=1, device=cpu) = onnx::Gemm[alpha=1., beta=1., transB=1, onnx_name=\"Gemm_5\"](%onnx::Gemm_11, %denseLayer.6.weight, %denseLayer.6.bias) # /home/braian/miniconda3/envs/tesis/lib/python3.9/site-packages/torch/nn/modules/linear.py:114:0\n",
      "  return (%12)\n",
      "\n"
     ]
    }
   ],
   "source": [
    "# lo mismo para MLP\n",
    "from modelo_mlp import instanciarModeloMLP\n",
    "modelo_mlp = instanciarModeloMLP(config)\n",
    "state_dict_path_mlp = os.path.abspath(\"./copia_modelos_pre_produccion/modelo_checkpoint200_mlp.pt\")\n",
    "modelo_mlp.load_state_dict(torch.load(state_dict_path_mlp))\n",
    "# desactivar cualquier capa del modo de entrenamiento, onnx solo sirve para inferencia\n",
    "modelo_mlp.eval()\n",
    "torch.onnx.export(modelo_mlp,dummy_input, os.path.abspath(\"./produccion/model_mlp.onnx\"), verbose=True)\n"
   ]
  }
 ],
 "metadata": {
  "kernelspec": {
   "display_name": "tesis",
   "language": "python",
   "name": "python3"
  },
  "language_info": {
   "codemirror_mode": {
    "name": "ipython",
    "version": 3
   },
   "file_extension": ".py",
   "mimetype": "text/x-python",
   "name": "python",
   "nbconvert_exporter": "python",
   "pygments_lexer": "ipython3",
   "version": "3.9.13"
  },
  "orig_nbformat": 4,
  "vscode": {
   "interpreter": {
    "hash": "9abe774f74fe6e9a34c044080c00539c2573e8d4e4c28ec478136b0c7aa9cb53"
   }
  }
 },
 "nbformat": 4,
 "nbformat_minor": 2
}
