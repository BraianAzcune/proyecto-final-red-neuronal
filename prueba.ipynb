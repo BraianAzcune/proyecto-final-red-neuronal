{
 "cells": [
  {
   "cell_type": "code",
   "execution_count": 1,
   "metadata": {},
   "outputs": [
    {
     "name": "stdout",
     "output_type": "stream",
     "text": [
      "hello world\n"
     ]
    }
   ],
   "source": [
    "print(\"hello world\")"
   ]
  },
  {
   "cell_type": "code",
   "execution_count": 2,
   "metadata": {},
   "outputs": [
    {
     "name": "stdout",
     "output_type": "stream",
     "text": [
      "Is cuda available  False\n"
     ]
    }
   ],
   "source": [
    "import torch\n",
    "isAvailable = torch.cuda.is_available()\n",
    "print(\"Is cuda available \",isAvailable)"
   ]
  },
  {
   "cell_type": "code",
   "execution_count": 1,
   "metadata": {},
   "outputs": [],
   "source": [
    "from ray import tune\n",
    "from ray.tune import CLIReporter\n",
    "from ray.tune.schedulers import ASHAScheduler\n",
    "config = {\n",
    "        \"batch_size\": tune.choice([8, 16, 32]),\n",
    "        \"learning_rate\": tune.loguniform(1e-4, 1e-1),\n",
    "        # red convolucional\n",
    "        \"cant_filtros_conv1\": tune.choice([6, 12, 18]),\n",
    "        \"kernel_size_maxpool1\": tune.choice([2, 3]),\n",
    "        \"cant_filtros_conv2\": tune.choice([16, 22, 28]),\n",
    "        \"kernel_size_maxpool2\": tune.choice([2, 3]),\n",
    "        \"full_l1\": tune.choice([120, 140, 160]),\n",
    "        \"full_l2\": tune.choice([84, 104, 124])\n",
    "    }"
   ]
  },
  {
   "cell_type": "code",
   "execution_count": 3,
   "metadata": {},
   "outputs": [
    {
     "name": "stdout",
     "output_type": "stream",
     "text": [
      "['batch_size', 'learning_rate', 'cant_filtros_conv1', 'kernel_size_maxpool1', 'cant_filtros_conv2', 'kernel_size_maxpool2', 'full_l1', 'full_l2']\n"
     ]
    }
   ],
   "source": [
    "print(list(config.keys()))"
   ]
  },
  {
   "cell_type": "code",
   "execution_count": 2,
   "metadata": {},
   "outputs": [
    {
     "data": {
      "text/plain": [
       "1"
      ]
     },
     "execution_count": 2,
     "metadata": {},
     "output_type": "execute_result"
    }
   ],
   "source": [
    "import torch\n",
    "torch.cuda.device_count()"
   ]
  }
 ],
 "metadata": {
  "kernelspec": {
   "display_name": "Python 3.10.6 ('tesis')",
   "language": "python",
   "name": "python3"
  },
  "language_info": {
   "codemirror_mode": {
    "name": "ipython",
    "version": 3
   },
   "file_extension": ".py",
   "mimetype": "text/x-python",
   "name": "python",
   "nbconvert_exporter": "python",
   "pygments_lexer": "ipython3",
   "version": "3.9.13"
  },
  "orig_nbformat": 4,
  "vscode": {
   "interpreter": {
    "hash": "9abe774f74fe6e9a34c044080c00539c2573e8d4e4c28ec478136b0c7aa9cb53"
   }
  }
 },
 "nbformat": 4,
 "nbformat_minor": 2
}
