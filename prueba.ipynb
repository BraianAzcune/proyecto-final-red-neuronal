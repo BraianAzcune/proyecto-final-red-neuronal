{
 "cells": [
  {
   "cell_type": "code",
   "execution_count": 1,
   "metadata": {},
   "outputs": [
    {
     "name": "stdout",
     "output_type": "stream",
     "text": [
      "hello world\n"
     ]
    }
   ],
   "source": [
    "print(\"hello world\")"
   ]
  },
  {
   "cell_type": "code",
   "execution_count": 2,
   "metadata": {},
   "outputs": [
    {
     "name": "stdout",
     "output_type": "stream",
     "text": [
      "Is cuda available  False\n"
     ]
    }
   ],
   "source": [
    "import torch\n",
    "isAvailable = torch.cuda.is_available()\n",
    "print(\"Is cuda available \",isAvailable)"
   ]
  },
  {
   "cell_type": "code",
   "execution_count": 1,
   "metadata": {},
   "outputs": [],
   "source": [
    "from ray import tune\n",
    "from ray.tune import CLIReporter\n",
    "from ray.tune.schedulers import ASHAScheduler\n",
    "config = {\n",
    "        \"batch_size\": tune.choice([8, 16, 32]),\n",
    "        \"learning_rate\": tune.loguniform(1e-4, 1e-1),\n",
    "        # red convolucional\n",
    "        \"cant_filtros_conv1\": tune.choice([6, 12, 18]),\n",
    "        \"kernel_size_maxpool1\": tune.choice([2, 3]),\n",
    "        \"cant_filtros_conv2\": tune.choice([16, 22, 28]),\n",
    "        \"kernel_size_maxpool2\": tune.choice([2, 3]),\n",
    "        \"full_l1\": tune.choice([120, 140, 160]),\n",
    "\n",
    "        \"full_l2\": tune.choice([84, 104, 124])\n",
    "    }"
   ]
  },
  {
   "cell_type": "code",
   "execution_count": 4,
   "metadata": {},
   "outputs": [
    {
     "name": "stdout",
     "output_type": "stream",
     "text": [
      "passed  324\n",
      "not passed  0\n",
      "0.0 % not passed\n"
     ]
    }
   ],
   "source": [
    "\"\"\"\n",
    "probar que absolutamente todas las posibles combinaciones no tiran fallo.\n",
    "\"\"\"\n",
    "import torch\n",
    "from modelo_convolucional import instanciarRed\n",
    "passed = 0\n",
    "not_passed =0\n",
    "fail_configs = []\n",
    "for conv1 in [6, 12, 18]:\n",
    "    for maxpool1 in [2, 3]:\n",
    "        for conv2 in [16, 22, 28]:\n",
    "            for maxpool2 in [2, 3]:\n",
    "                for l1 in [120, 140, 160]:\n",
    "                    for l2 in [84, 104, 124]:\n",
    "                        config = {\n",
    "                            \"cant_filtros_conv1\": conv1,\n",
    "                            \"kernel_size_maxpool1\": maxpool1,\n",
    "                            \"cant_filtros_conv2\": conv2,\n",
    "                            \"kernel_size_maxpool2\": maxpool2,\n",
    "                            \"full_l1\": l1,\n",
    "                            \"full_l2\": l2,\n",
    "                        }\n",
    "\n",
    "                        model = instanciarRed(config)\n",
    "                        random = torch.rand(1, 3, 32, 32)\n",
    "                        try:\n",
    "                            model(random)\n",
    "                            passed+=1\n",
    "                        except Exception as e:\n",
    "                            not_passed+=1\n",
    "                            print(config)\n",
    "                            fail_configs.append(config)\n",
    "                            #raise e\n",
    "print(\"passed \",passed)\n",
    "print(\"not passed \",not_passed)\n",
    "print(not_passed/(passed+not_passed)*100,\"% not passed\")"
   ]
  },
  {
   "cell_type": "code",
   "execution_count": 2,
   "metadata": {},
   "outputs": [],
   "source": [
    "import torch\n",
    "from modelo_convolucional import instanciarRed\n",
    "# config = fail_configs[0]\n",
    "# print(config)\n",
    "config = {\n",
    "    \"cant_filtros_conv1\": 6,\n",
    "    \"kernel_size_maxpool1\": 2,\n",
    "    \"cant_filtros_conv2\": 16,\n",
    "    \"kernel_size_maxpool2\": 2,\n",
    "    \"full_l1\": 120,\n",
    "    \"full_l2\": 84,\n",
    "}\n",
    "\n",
    "model = instanciarRed(config)\n",
    "\n",
    "random = torch.rand(1, 3, 32, 32)\n",
    "\n",
    "\n"
   ]
  },
  {
   "cell_type": "code",
   "execution_count": 3,
   "metadata": {},
   "outputs": [
    {
     "name": "stderr",
     "output_type": "stream",
     "text": [
      "ic| 'conv1'\n",
      "ic| model.o_conv2d: [6, 30]\n",
      "ic| random.shape: torch.Size([1, 3, 32, 32])\n",
      "ic| rta.shape: torch.Size([1, 6, 30, 30])\n",
      "ic| 'maxpool1'\n",
      "ic| model.o_maxPool: [6, 15]\n",
      "ic| rta.shape: torch.Size([1, 6, 15, 15])\n",
      "ic| 'conv2'\n",
      "ic| model.o_conv2d2: [16, 11]\n",
      "ic| rta.shape: torch.Size([1, 16, 11, 11])\n",
      "ic| model.layer2: Sequential(\n",
      "                    (0): Conv2d(6, 16, kernel_size=(5, 5), stride=(1, 1))\n",
      "                    (1): ReLU()\n",
      "                    (2): MaxPool2d(kernel_size=2, stride=2, padding=0, dilation=1, ceil_mode=False)\n",
      "                  )\n"
     ]
    },
    {
     "data": {
      "text/plain": [
       "Sequential(\n",
       "  (0): Conv2d(6, 16, kernel_size=(5, 5), stride=(1, 1))\n",
       "  (1): ReLU()\n",
       "  (2): MaxPool2d(kernel_size=2, stride=2, padding=0, dilation=1, ceil_mode=False)\n",
       ")"
      ]
     },
     "execution_count": 3,
     "metadata": {},
     "output_type": "execute_result"
    }
   ],
   "source": [
    "\"\"\"\n",
    "replicar un proceso forward paso a paso, revisando las dimensiones, en busca del error dimensional.\n",
    "\"\"\"\n",
    "from icecream import ic\n",
    "from torch import nn\n",
    "# conv1\n",
    "ic(\"conv1\")\n",
    "ic(model.o_conv2d)\n",
    "conv = nn.Conv2d(in_channels=3, out_channels=model.o_conv2d[0],\n",
    "                 kernel_size=5, stride=1, padding=1)\n",
    "ic(random.shape)\n",
    "rta = conv(random)\n",
    "ic(rta.shape)\n",
    "# maxpool1\n",
    "ic(\"maxpool1\")\n",
    "maxPool1 = nn.MaxPool2d(kernel_size=config[\"kernel_size_maxpool1\"], stride=2)\n",
    "rta = maxPool1(rta)\n",
    "ic(model.o_maxPool)\n",
    "ic(rta.shape)\n",
    "# conv2\n",
    "ic(\"conv2\")\n",
    "conv2 = nn.Conv2d(in_channels=model.o_maxPool[0], out_channels=config[\"cant_filtros_conv2\"],\n",
    "                  kernel_size=5, stride=1, padding=0)\n",
    "rta = conv2(rta)\n",
    "ic(model.o_conv2d2)\n",
    "ic(rta.shape)\n",
    "\n",
    "ic(model.layer2)\n"
   ]
  },
  {
   "cell_type": "code",
   "execution_count": 2,
   "metadata": {},
   "outputs": [
    {
     "name": "stdout",
     "output_type": "stream",
     "text": [
      "Modelo convolucional\n",
      "==========================================================================================\n",
      "Layer (type:depth-idx)                   Output Shape              Param #\n",
      "==========================================================================================\n",
      "RedConvolucional                         [16, 10]                  --\n",
      "├─Sequential: 1-1                        [16, 18, 15, 15]          --\n",
      "│    └─Conv2d: 2-1                       [16, 18, 30, 30]          1,368\n",
      "│    └─ReLU: 2-2                         [16, 18, 30, 30]          --\n",
      "│    └─MaxPool2d: 2-3                    [16, 18, 15, 15]          --\n",
      "├─Sequential: 1-2                        [16, 28, 5, 5]            --\n",
      "│    └─Conv2d: 2-4                       [16, 28, 11, 11]          12,628\n",
      "│    └─ReLU: 2-5                         [16, 28, 11, 11]          --\n",
      "│    └─MaxPool2d: 2-6                    [16, 28, 5, 5]            --\n",
      "├─Sequential: 1-3                        [16, 10]                  --\n",
      "│    └─Flatten: 2-7                      [16, 700]                 --\n",
      "│    └─Linear: 2-8                       [16, 160]                 112,160\n",
      "│    └─ReLU: 2-9                         [16, 160]                 --\n",
      "│    └─Dropout: 2-10                     [16, 160]                 --\n",
      "│    └─Linear: 2-11                      [16, 104]                 16,744\n",
      "│    └─ReLU: 2-12                        [16, 104]                 --\n",
      "│    └─Linear: 2-13                      [16, 10]                  1,050\n",
      "==========================================================================================\n",
      "Total params: 143,950\n",
      "Trainable params: 143,950\n",
      "Non-trainable params: 0\n",
      "Total mult-adds (M): 46.23\n",
      "==========================================================================================\n",
      "Input size (MB): 0.20\n",
      "Forward/backward pass size (MB): 2.54\n",
      "Params size (MB): 0.58\n",
      "Estimated Total Size (MB): 3.31\n",
      "==========================================================================================\n",
      "Modelo MLP\n",
      "==========================================================================================\n",
      "Layer (type:depth-idx)                   Output Shape              Param #\n",
      "==========================================================================================\n",
      "RedMLP                                   [16, 10]                  --\n",
      "├─Sequential: 1-1                        [16, 10]                  --\n",
      "│    └─Flatten: 2-1                      [16, 3072]                --\n",
      "│    └─Linear: 2-2                       [16, 160]                 491,680\n",
      "│    └─ReLU: 2-3                         [16, 160]                 --\n",
      "│    └─Dropout: 2-4                      [16, 160]                 --\n",
      "│    └─Linear: 2-5                       [16, 104]                 16,744\n",
      "│    └─ReLU: 2-6                         [16, 104]                 --\n",
      "│    └─Linear: 2-7                       [16, 10]                  1,050\n",
      "==========================================================================================\n",
      "Total params: 509,474\n",
      "Trainable params: 509,474\n",
      "Non-trainable params: 0\n",
      "Total mult-adds (M): 8.15\n",
      "==========================================================================================\n",
      "Input size (MB): 0.20\n",
      "Forward/backward pass size (MB): 0.04\n",
      "Params size (MB): 2.04\n",
      "Estimated Total Size (MB): 2.27\n",
      "==========================================================================================\n"
     ]
    }
   ],
   "source": [
    "# ver dimensiones de modelos finales\n",
    "\n",
    "from torchinfo import summary\n",
    "from modelo_convolucional import instanciarModeloConvolucional\n",
    "from modelo_mlp import instanciarModeloMLP\n",
    "config = {\n",
    "    \"batch_size\": 16,\n",
    "    \"learning_rate\": 0.000106647,\n",
    "    \"cant_filtros_conv1\": 18,\n",
    "    \"kernel_size_maxpool1\": 2,\n",
    "    \"cant_filtros_conv2\": 28,\n",
    "    \"kernel_size_maxpool2\": 3,\n",
    "    \"full_l1\": 160,\n",
    "    \"full_l2\": 104,\n",
    "    \"weight_decay\":1e-4,\n",
    "}\n",
    "\n",
    "model = instanciarModeloConvolucional(config)\n",
    "dimension_imagen = [3,32,32]\n",
    "resumen = summary(model, input_size=(config[\"batch_size\"], *dimension_imagen))\n",
    "print(\"Modelo convolucional\")\n",
    "print(resumen)\n",
    "\n",
    "model = instanciarModeloMLP(config)\n",
    "resumen = summary(model, input_size=(config[\"batch_size\"], *dimension_imagen))\n",
    "print(\"Modelo MLP\")\n",
    "print(resumen)\n"
   ]
  }
 ],
 "metadata": {
  "kernelspec": {
   "display_name": "Python 3.10.6 ('tesis')",
   "language": "python",
   "name": "python3"
  },
  "language_info": {
   "codemirror_mode": {
    "name": "ipython",
    "version": 3
   },
   "file_extension": ".py",
   "mimetype": "text/x-python",
   "name": "python",
   "nbconvert_exporter": "python",
   "pygments_lexer": "ipython3",
   "version": "3.9.13"
  },
  "orig_nbformat": 4,
  "vscode": {
   "interpreter": {
    "hash": "9abe774f74fe6e9a34c044080c00539c2573e8d4e4c28ec478136b0c7aa9cb53"
   }
  }
 },
 "nbformat": 4,
 "nbformat_minor": 2
}
